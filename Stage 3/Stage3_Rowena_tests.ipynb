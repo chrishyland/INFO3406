{
 "cells": [
  {
   "cell_type": "code",
   "execution_count": 1,
   "metadata": {},
   "outputs": [
    {
     "name": "stderr",
     "output_type": "stream",
     "text": [
      "C:\\Users\\Rowena\\Anaconda3\\lib\\site-packages\\sklearn\\cross_validation.py:44: DeprecationWarning: This module was deprecated in version 0.18 in favor of the model_selection module into which all the refactored classes and functions are moved. Also note that the interface of the new CV iterators are different from that of this module. This module will be removed in 0.20.\n",
      "  \"This module will be removed in 0.20.\", DeprecationWarning)\n"
     ]
    }
   ],
   "source": [
    "import pandas as pd\n",
    "import numpy as np\n",
    "import seaborn as sns\n",
    "import matplotlib.pyplot as plt\n",
    "from sklearn.tree import DecisionTreeClassifier\n",
    "from sklearn.discriminant_analysis import QuadraticDiscriminantAnalysis, LinearDiscriminantAnalysis\n",
    "from sklearn.neighbors import KNeighborsClassifier\n",
    "from sklearn.ensemble import AdaBoostClassifier, GradientBoostingClassifier, ExtraTreesClassifier, RandomForestClassifier\n",
    "from sklearn.cross_validation import train_test_split\n",
    "from sklearn.metrics import confusion_matrix, accuracy_score\n",
    "from sklearn.ensemble import VotingClassifier"
   ]
  },
  {
   "cell_type": "code",
   "execution_count": 4,
   "metadata": {},
   "outputs": [],
   "source": [
    "data = pd.read_csv('Pokemon.csv')"
   ]
  },
  {
   "cell_type": "code",
   "execution_count": 5,
   "metadata": {},
   "outputs": [
    {
     "data": {
      "text/html": [
       "<div>\n",
       "<style>\n",
       "    .dataframe thead tr:only-child th {\n",
       "        text-align: right;\n",
       "    }\n",
       "\n",
       "    .dataframe thead th {\n",
       "        text-align: left;\n",
       "    }\n",
       "\n",
       "    .dataframe tbody tr th {\n",
       "        vertical-align: top;\n",
       "    }\n",
       "</style>\n",
       "<table border=\"1\" class=\"dataframe\">\n",
       "  <thead>\n",
       "    <tr style=\"text-align: right;\">\n",
       "      <th></th>\n",
       "      <th>#</th>\n",
       "      <th>Name</th>\n",
       "      <th>Type 1</th>\n",
       "      <th>Type 2</th>\n",
       "      <th>Total</th>\n",
       "      <th>HP</th>\n",
       "      <th>Attack</th>\n",
       "      <th>Defense</th>\n",
       "      <th>Sp. Atk</th>\n",
       "      <th>Sp. Def</th>\n",
       "      <th>Speed</th>\n",
       "      <th>Generation</th>\n",
       "      <th>Legendary</th>\n",
       "    </tr>\n",
       "  </thead>\n",
       "  <tbody>\n",
       "    <tr>\n",
       "      <th>0</th>\n",
       "      <td>1</td>\n",
       "      <td>Bulbasaur</td>\n",
       "      <td>Grass</td>\n",
       "      <td>Poison</td>\n",
       "      <td>318</td>\n",
       "      <td>45</td>\n",
       "      <td>49</td>\n",
       "      <td>49</td>\n",
       "      <td>65</td>\n",
       "      <td>65</td>\n",
       "      <td>45</td>\n",
       "      <td>1</td>\n",
       "      <td>False</td>\n",
       "    </tr>\n",
       "    <tr>\n",
       "      <th>1</th>\n",
       "      <td>2</td>\n",
       "      <td>Ivysaur</td>\n",
       "      <td>Grass</td>\n",
       "      <td>Poison</td>\n",
       "      <td>405</td>\n",
       "      <td>60</td>\n",
       "      <td>62</td>\n",
       "      <td>63</td>\n",
       "      <td>80</td>\n",
       "      <td>80</td>\n",
       "      <td>60</td>\n",
       "      <td>1</td>\n",
       "      <td>False</td>\n",
       "    </tr>\n",
       "    <tr>\n",
       "      <th>2</th>\n",
       "      <td>3</td>\n",
       "      <td>Venusaur</td>\n",
       "      <td>Grass</td>\n",
       "      <td>Poison</td>\n",
       "      <td>525</td>\n",
       "      <td>80</td>\n",
       "      <td>82</td>\n",
       "      <td>83</td>\n",
       "      <td>100</td>\n",
       "      <td>100</td>\n",
       "      <td>80</td>\n",
       "      <td>1</td>\n",
       "      <td>False</td>\n",
       "    </tr>\n",
       "    <tr>\n",
       "      <th>3</th>\n",
       "      <td>3</td>\n",
       "      <td>VenusaurMega Venusaur</td>\n",
       "      <td>Grass</td>\n",
       "      <td>Poison</td>\n",
       "      <td>625</td>\n",
       "      <td>80</td>\n",
       "      <td>100</td>\n",
       "      <td>123</td>\n",
       "      <td>122</td>\n",
       "      <td>120</td>\n",
       "      <td>80</td>\n",
       "      <td>1</td>\n",
       "      <td>False</td>\n",
       "    </tr>\n",
       "    <tr>\n",
       "      <th>4</th>\n",
       "      <td>4</td>\n",
       "      <td>Charmander</td>\n",
       "      <td>Fire</td>\n",
       "      <td>NaN</td>\n",
       "      <td>309</td>\n",
       "      <td>39</td>\n",
       "      <td>52</td>\n",
       "      <td>43</td>\n",
       "      <td>60</td>\n",
       "      <td>50</td>\n",
       "      <td>65</td>\n",
       "      <td>1</td>\n",
       "      <td>False</td>\n",
       "    </tr>\n",
       "  </tbody>\n",
       "</table>\n",
       "</div>"
      ],
      "text/plain": [
       "   #                   Name Type 1  Type 2  Total  HP  Attack  Defense  \\\n",
       "0  1              Bulbasaur  Grass  Poison    318  45      49       49   \n",
       "1  2                Ivysaur  Grass  Poison    405  60      62       63   \n",
       "2  3               Venusaur  Grass  Poison    525  80      82       83   \n",
       "3  3  VenusaurMega Venusaur  Grass  Poison    625  80     100      123   \n",
       "4  4             Charmander   Fire     NaN    309  39      52       43   \n",
       "\n",
       "   Sp. Atk  Sp. Def  Speed  Generation  Legendary  \n",
       "0       65       65     45           1      False  \n",
       "1       80       80     60           1      False  \n",
       "2      100      100     80           1      False  \n",
       "3      122      120     80           1      False  \n",
       "4       60       50     65           1      False  "
      ]
     },
     "execution_count": 5,
     "metadata": {},
     "output_type": "execute_result"
    }
   ],
   "source": [
    "data.head()"
   ]
  },
  {
   "cell_type": "code",
   "execution_count": 6,
   "metadata": {
    "collapsed": true
   },
   "outputs": [],
   "source": [
    "data = data.set_index('#')\n",
    "data.head()\n",
    "type1 = data.pop('Type 1')"
   ]
  },
  {
   "cell_type": "code",
   "execution_count": 7,
   "metadata": {},
   "outputs": [
    {
     "data": {
      "text/html": [
       "<div>\n",
       "<style>\n",
       "    .dataframe thead tr:only-child th {\n",
       "        text-align: right;\n",
       "    }\n",
       "\n",
       "    .dataframe thead th {\n",
       "        text-align: left;\n",
       "    }\n",
       "\n",
       "    .dataframe tbody tr th {\n",
       "        vertical-align: top;\n",
       "    }\n",
       "</style>\n",
       "<table border=\"1\" class=\"dataframe\">\n",
       "  <thead>\n",
       "    <tr style=\"text-align: right;\">\n",
       "      <th></th>\n",
       "      <th>Name</th>\n",
       "      <th>Type 2</th>\n",
       "      <th>Total</th>\n",
       "      <th>HP</th>\n",
       "      <th>Attack</th>\n",
       "      <th>Defense</th>\n",
       "      <th>Sp. Atk</th>\n",
       "      <th>Sp. Def</th>\n",
       "      <th>Speed</th>\n",
       "      <th>Generation</th>\n",
       "      <th>Legendary</th>\n",
       "    </tr>\n",
       "    <tr>\n",
       "      <th>#</th>\n",
       "      <th></th>\n",
       "      <th></th>\n",
       "      <th></th>\n",
       "      <th></th>\n",
       "      <th></th>\n",
       "      <th></th>\n",
       "      <th></th>\n",
       "      <th></th>\n",
       "      <th></th>\n",
       "      <th></th>\n",
       "      <th></th>\n",
       "    </tr>\n",
       "  </thead>\n",
       "  <tbody>\n",
       "    <tr>\n",
       "      <th>1</th>\n",
       "      <td>Bulbasaur</td>\n",
       "      <td>Poison</td>\n",
       "      <td>318</td>\n",
       "      <td>45</td>\n",
       "      <td>49</td>\n",
       "      <td>49</td>\n",
       "      <td>65</td>\n",
       "      <td>65</td>\n",
       "      <td>45</td>\n",
       "      <td>1</td>\n",
       "      <td>False</td>\n",
       "    </tr>\n",
       "    <tr>\n",
       "      <th>2</th>\n",
       "      <td>Ivysaur</td>\n",
       "      <td>Poison</td>\n",
       "      <td>405</td>\n",
       "      <td>60</td>\n",
       "      <td>62</td>\n",
       "      <td>63</td>\n",
       "      <td>80</td>\n",
       "      <td>80</td>\n",
       "      <td>60</td>\n",
       "      <td>1</td>\n",
       "      <td>False</td>\n",
       "    </tr>\n",
       "    <tr>\n",
       "      <th>3</th>\n",
       "      <td>Venusaur</td>\n",
       "      <td>Poison</td>\n",
       "      <td>525</td>\n",
       "      <td>80</td>\n",
       "      <td>82</td>\n",
       "      <td>83</td>\n",
       "      <td>100</td>\n",
       "      <td>100</td>\n",
       "      <td>80</td>\n",
       "      <td>1</td>\n",
       "      <td>False</td>\n",
       "    </tr>\n",
       "    <tr>\n",
       "      <th>3</th>\n",
       "      <td>VenusaurMega Venusaur</td>\n",
       "      <td>Poison</td>\n",
       "      <td>625</td>\n",
       "      <td>80</td>\n",
       "      <td>100</td>\n",
       "      <td>123</td>\n",
       "      <td>122</td>\n",
       "      <td>120</td>\n",
       "      <td>80</td>\n",
       "      <td>1</td>\n",
       "      <td>False</td>\n",
       "    </tr>\n",
       "    <tr>\n",
       "      <th>4</th>\n",
       "      <td>Charmander</td>\n",
       "      <td>NaN</td>\n",
       "      <td>309</td>\n",
       "      <td>39</td>\n",
       "      <td>52</td>\n",
       "      <td>43</td>\n",
       "      <td>60</td>\n",
       "      <td>50</td>\n",
       "      <td>65</td>\n",
       "      <td>1</td>\n",
       "      <td>False</td>\n",
       "    </tr>\n",
       "  </tbody>\n",
       "</table>\n",
       "</div>"
      ],
      "text/plain": [
       "                    Name  Type 2  Total  HP  Attack  Defense  Sp. Atk  \\\n",
       "#                                                                       \n",
       "1              Bulbasaur  Poison    318  45      49       49       65   \n",
       "2                Ivysaur  Poison    405  60      62       63       80   \n",
       "3               Venusaur  Poison    525  80      82       83      100   \n",
       "3  VenusaurMega Venusaur  Poison    625  80     100      123      122   \n",
       "4             Charmander     NaN    309  39      52       43       60   \n",
       "\n",
       "   Sp. Def  Speed  Generation  Legendary  \n",
       "#                                         \n",
       "1       65     45           1      False  \n",
       "2       80     60           1      False  \n",
       "3      100     80           1      False  \n",
       "3      120     80           1      False  \n",
       "4       50     65           1      False  "
      ]
     },
     "execution_count": 7,
     "metadata": {},
     "output_type": "execute_result"
    }
   ],
   "source": [
    "data.head()"
   ]
  },
  {
   "cell_type": "code",
   "execution_count": 8,
   "metadata": {},
   "outputs": [
    {
     "data": {
      "text/plain": [
       "Water       112\n",
       "Normal       98\n",
       "Grass        70\n",
       "Bug          69\n",
       "Psychic      57\n",
       "Fire         52\n",
       "Rock         44\n",
       "Electric     44\n",
       "Ground       32\n",
       "Ghost        32\n",
       "Dragon       32\n",
       "Dark         31\n",
       "Poison       28\n",
       "Steel        27\n",
       "Fighting     27\n",
       "Ice          24\n",
       "Fairy        17\n",
       "Flying        4\n",
       "Name: Type 1, dtype: int64"
      ]
     },
     "execution_count": 8,
     "metadata": {},
     "output_type": "execute_result"
    }
   ],
   "source": [
    "type1.value_counts()"
   ]
  },
  {
   "cell_type": "code",
   "execution_count": 9,
   "metadata": {},
   "outputs": [
    {
     "data": {
      "text/plain": [
       "Bug          69\n",
       "Dark         31\n",
       "Dragon       32\n",
       "Electric     44\n",
       "Fairy        17\n",
       "Fighting     27\n",
       "Fire         52\n",
       "Flying        4\n",
       "Ghost        32\n",
       "Grass        70\n",
       "Ground       32\n",
       "Ice          24\n",
       "Normal       98\n",
       "Poison       28\n",
       "Psychic      57\n",
       "Rock         44\n",
       "Steel        27\n",
       "Water       112\n",
       "dtype: int64"
      ]
     },
     "execution_count": 9,
     "metadata": {},
     "output_type": "execute_result"
    }
   ],
   "source": [
    "# create a binary response variable for each class\n",
    "Y = pd.get_dummies(type1)\n",
    "np.sum(Y, axis=0)"
   ]
  },
  {
   "cell_type": "code",
   "execution_count": 11,
   "metadata": {
    "collapsed": true
   },
   "outputs": [],
   "source": [
    "dummies2list = []\n",
    "for x in Y:\n",
    "    word = 'Type_1_' + x\n",
    "    dummies2list.append(word)\n",
    "Y.columns = dummies2list"
   ]
  },
  {
   "cell_type": "code",
   "execution_count": 12,
   "metadata": {},
   "outputs": [
    {
     "data": {
      "text/html": [
       "<div>\n",
       "<style>\n",
       "    .dataframe thead tr:only-child th {\n",
       "        text-align: right;\n",
       "    }\n",
       "\n",
       "    .dataframe thead th {\n",
       "        text-align: left;\n",
       "    }\n",
       "\n",
       "    .dataframe tbody tr th {\n",
       "        vertical-align: top;\n",
       "    }\n",
       "</style>\n",
       "<table border=\"1\" class=\"dataframe\">\n",
       "  <thead>\n",
       "    <tr style=\"text-align: right;\">\n",
       "      <th></th>\n",
       "      <th>Type_1_Bug</th>\n",
       "      <th>Type_1_Dark</th>\n",
       "      <th>Type_1_Dragon</th>\n",
       "      <th>Type_1_Electric</th>\n",
       "      <th>Type_1_Fairy</th>\n",
       "      <th>Type_1_Fighting</th>\n",
       "      <th>Type_1_Fire</th>\n",
       "      <th>Type_1_Flying</th>\n",
       "      <th>Type_1_Ghost</th>\n",
       "      <th>Type_1_Grass</th>\n",
       "      <th>Type_1_Ground</th>\n",
       "      <th>Type_1_Ice</th>\n",
       "      <th>Type_1_Normal</th>\n",
       "      <th>Type_1_Poison</th>\n",
       "      <th>Type_1_Psychic</th>\n",
       "      <th>Type_1_Rock</th>\n",
       "      <th>Type_1_Steel</th>\n",
       "      <th>Type_1_Water</th>\n",
       "    </tr>\n",
       "    <tr>\n",
       "      <th>#</th>\n",
       "      <th></th>\n",
       "      <th></th>\n",
       "      <th></th>\n",
       "      <th></th>\n",
       "      <th></th>\n",
       "      <th></th>\n",
       "      <th></th>\n",
       "      <th></th>\n",
       "      <th></th>\n",
       "      <th></th>\n",
       "      <th></th>\n",
       "      <th></th>\n",
       "      <th></th>\n",
       "      <th></th>\n",
       "      <th></th>\n",
       "      <th></th>\n",
       "      <th></th>\n",
       "      <th></th>\n",
       "    </tr>\n",
       "  </thead>\n",
       "  <tbody>\n",
       "    <tr>\n",
       "      <th>1</th>\n",
       "      <td>0</td>\n",
       "      <td>0</td>\n",
       "      <td>0</td>\n",
       "      <td>0</td>\n",
       "      <td>0</td>\n",
       "      <td>0</td>\n",
       "      <td>0</td>\n",
       "      <td>0</td>\n",
       "      <td>0</td>\n",
       "      <td>1</td>\n",
       "      <td>0</td>\n",
       "      <td>0</td>\n",
       "      <td>0</td>\n",
       "      <td>0</td>\n",
       "      <td>0</td>\n",
       "      <td>0</td>\n",
       "      <td>0</td>\n",
       "      <td>0</td>\n",
       "    </tr>\n",
       "    <tr>\n",
       "      <th>2</th>\n",
       "      <td>0</td>\n",
       "      <td>0</td>\n",
       "      <td>0</td>\n",
       "      <td>0</td>\n",
       "      <td>0</td>\n",
       "      <td>0</td>\n",
       "      <td>0</td>\n",
       "      <td>0</td>\n",
       "      <td>0</td>\n",
       "      <td>1</td>\n",
       "      <td>0</td>\n",
       "      <td>0</td>\n",
       "      <td>0</td>\n",
       "      <td>0</td>\n",
       "      <td>0</td>\n",
       "      <td>0</td>\n",
       "      <td>0</td>\n",
       "      <td>0</td>\n",
       "    </tr>\n",
       "    <tr>\n",
       "      <th>3</th>\n",
       "      <td>0</td>\n",
       "      <td>0</td>\n",
       "      <td>0</td>\n",
       "      <td>0</td>\n",
       "      <td>0</td>\n",
       "      <td>0</td>\n",
       "      <td>0</td>\n",
       "      <td>0</td>\n",
       "      <td>0</td>\n",
       "      <td>1</td>\n",
       "      <td>0</td>\n",
       "      <td>0</td>\n",
       "      <td>0</td>\n",
       "      <td>0</td>\n",
       "      <td>0</td>\n",
       "      <td>0</td>\n",
       "      <td>0</td>\n",
       "      <td>0</td>\n",
       "    </tr>\n",
       "    <tr>\n",
       "      <th>3</th>\n",
       "      <td>0</td>\n",
       "      <td>0</td>\n",
       "      <td>0</td>\n",
       "      <td>0</td>\n",
       "      <td>0</td>\n",
       "      <td>0</td>\n",
       "      <td>0</td>\n",
       "      <td>0</td>\n",
       "      <td>0</td>\n",
       "      <td>1</td>\n",
       "      <td>0</td>\n",
       "      <td>0</td>\n",
       "      <td>0</td>\n",
       "      <td>0</td>\n",
       "      <td>0</td>\n",
       "      <td>0</td>\n",
       "      <td>0</td>\n",
       "      <td>0</td>\n",
       "    </tr>\n",
       "    <tr>\n",
       "      <th>4</th>\n",
       "      <td>0</td>\n",
       "      <td>0</td>\n",
       "      <td>0</td>\n",
       "      <td>0</td>\n",
       "      <td>0</td>\n",
       "      <td>0</td>\n",
       "      <td>1</td>\n",
       "      <td>0</td>\n",
       "      <td>0</td>\n",
       "      <td>0</td>\n",
       "      <td>0</td>\n",
       "      <td>0</td>\n",
       "      <td>0</td>\n",
       "      <td>0</td>\n",
       "      <td>0</td>\n",
       "      <td>0</td>\n",
       "      <td>0</td>\n",
       "      <td>0</td>\n",
       "    </tr>\n",
       "  </tbody>\n",
       "</table>\n",
       "</div>"
      ],
      "text/plain": [
       "   Type_1_Bug  Type_1_Dark  Type_1_Dragon  Type_1_Electric  Type_1_Fairy  \\\n",
       "#                                                                          \n",
       "1           0            0              0                0             0   \n",
       "2           0            0              0                0             0   \n",
       "3           0            0              0                0             0   \n",
       "3           0            0              0                0             0   \n",
       "4           0            0              0                0             0   \n",
       "\n",
       "   Type_1_Fighting  Type_1_Fire  Type_1_Flying  Type_1_Ghost  Type_1_Grass  \\\n",
       "#                                                                            \n",
       "1                0            0              0             0             1   \n",
       "2                0            0              0             0             1   \n",
       "3                0            0              0             0             1   \n",
       "3                0            0              0             0             1   \n",
       "4                0            1              0             0             0   \n",
       "\n",
       "   Type_1_Ground  Type_1_Ice  Type_1_Normal  Type_1_Poison  Type_1_Psychic  \\\n",
       "#                                                                            \n",
       "1              0           0              0              0               0   \n",
       "2              0           0              0              0               0   \n",
       "3              0           0              0              0               0   \n",
       "3              0           0              0              0               0   \n",
       "4              0           0              0              0               0   \n",
       "\n",
       "   Type_1_Rock  Type_1_Steel  Type_1_Water  \n",
       "#                                           \n",
       "1            0             0             0  \n",
       "2            0             0             0  \n",
       "3            0             0             0  \n",
       "3            0             0             0  \n",
       "4            0             0             0  "
      ]
     },
     "execution_count": 12,
     "metadata": {},
     "output_type": "execute_result"
    }
   ],
   "source": [
    "Y.head()"
   ]
  },
  {
   "cell_type": "markdown",
   "metadata": {},
   "source": [
    "#alternative way\n",
    "Y = pd.DataFrame()\n",
    "for this_type in types:\n",
    "    this_Y = (type1 == this_type).astype(int)\n",
    "    Y['Type_1_' + this_type] = this_Y"
   ]
  },
  {
   "cell_type": "code",
   "execution_count": 13,
   "metadata": {},
   "outputs": [
    {
     "data": {
      "text/plain": [
       "array([1, 2, 3, 4, 5, 6], dtype=int64)"
      ]
     },
     "execution_count": 13,
     "metadata": {},
     "output_type": "execute_result"
    }
   ],
   "source": [
    "data['Generation'].unique()"
   ]
  },
  {
   "cell_type": "code",
   "execution_count": 14,
   "metadata": {
    "collapsed": true
   },
   "outputs": [],
   "source": [
    "dummies = pd.get_dummies(data['Generation'])\n",
    "#dummies2 = pd.get_dummies(data['Type 1'])\n",
    "dummies3 = pd.get_dummies(data['Type 2'])\n",
    "\n",
    "dummies1list = []\n",
    "for x in dummies:\n",
    "    word = 'Generation_' + str(x)\n",
    "    dummies1list.append(word)\n",
    "    \n",
    "dummies.columns = dummies1list\n",
    "step_1 = pd.concat([data, dummies], axis=1)  \n",
    "\n",
    "\n",
    "#dummies2list = []\n",
    "#for x in dummies2:\n",
    "#    word = 'Type_1_' + x\n",
    "#    dummies2list.append(word)\n",
    "    \n",
    "dummies3list = []\n",
    "for x in dummies3:\n",
    "    word = 'Type_2_' + x\n",
    "    dummies3list.append(word)\n",
    "#dummies2.columns = dummies2list\n",
    "dummies3.columns = dummies3list\n",
    "final_step = pd.concat([step_1,dummies3], axis = 1)\n",
    "#data = pd.concat([final_step,dummies3], axis = 1)\n",
    "\n",
    "#del data['Type 1']\n",
    "del final_step['Type 2']\n",
    "del final_step['Generation']\n",
    "del final_step['Name']\n",
    "final_step\n",
    "\n",
    "#Converts the boolean column into a column of 0's and 1's\n",
    "final_step.Legendary = final_step.Legendary.astype(int)"
   ]
  },
  {
   "cell_type": "code",
   "execution_count": 15,
   "metadata": {},
   "outputs": [
    {
     "data": {
      "text/html": [
       "<div>\n",
       "<style>\n",
       "    .dataframe thead tr:only-child th {\n",
       "        text-align: right;\n",
       "    }\n",
       "\n",
       "    .dataframe thead th {\n",
       "        text-align: left;\n",
       "    }\n",
       "\n",
       "    .dataframe tbody tr th {\n",
       "        vertical-align: top;\n",
       "    }\n",
       "</style>\n",
       "<table border=\"1\" class=\"dataframe\">\n",
       "  <thead>\n",
       "    <tr style=\"text-align: right;\">\n",
       "      <th></th>\n",
       "      <th>Total</th>\n",
       "      <th>HP</th>\n",
       "      <th>Attack</th>\n",
       "      <th>Defense</th>\n",
       "      <th>Sp. Atk</th>\n",
       "      <th>Sp. Def</th>\n",
       "      <th>Speed</th>\n",
       "      <th>Legendary</th>\n",
       "      <th>Generation_1</th>\n",
       "      <th>Generation_2</th>\n",
       "      <th>...</th>\n",
       "      <th>Type_2_Ghost</th>\n",
       "      <th>Type_2_Grass</th>\n",
       "      <th>Type_2_Ground</th>\n",
       "      <th>Type_2_Ice</th>\n",
       "      <th>Type_2_Normal</th>\n",
       "      <th>Type_2_Poison</th>\n",
       "      <th>Type_2_Psychic</th>\n",
       "      <th>Type_2_Rock</th>\n",
       "      <th>Type_2_Steel</th>\n",
       "      <th>Type_2_Water</th>\n",
       "    </tr>\n",
       "    <tr>\n",
       "      <th>#</th>\n",
       "      <th></th>\n",
       "      <th></th>\n",
       "      <th></th>\n",
       "      <th></th>\n",
       "      <th></th>\n",
       "      <th></th>\n",
       "      <th></th>\n",
       "      <th></th>\n",
       "      <th></th>\n",
       "      <th></th>\n",
       "      <th></th>\n",
       "      <th></th>\n",
       "      <th></th>\n",
       "      <th></th>\n",
       "      <th></th>\n",
       "      <th></th>\n",
       "      <th></th>\n",
       "      <th></th>\n",
       "      <th></th>\n",
       "      <th></th>\n",
       "      <th></th>\n",
       "    </tr>\n",
       "  </thead>\n",
       "  <tbody>\n",
       "    <tr>\n",
       "      <th>1</th>\n",
       "      <td>318</td>\n",
       "      <td>45</td>\n",
       "      <td>49</td>\n",
       "      <td>49</td>\n",
       "      <td>65</td>\n",
       "      <td>65</td>\n",
       "      <td>45</td>\n",
       "      <td>0</td>\n",
       "      <td>1</td>\n",
       "      <td>0</td>\n",
       "      <td>...</td>\n",
       "      <td>0</td>\n",
       "      <td>0</td>\n",
       "      <td>0</td>\n",
       "      <td>0</td>\n",
       "      <td>0</td>\n",
       "      <td>1</td>\n",
       "      <td>0</td>\n",
       "      <td>0</td>\n",
       "      <td>0</td>\n",
       "      <td>0</td>\n",
       "    </tr>\n",
       "    <tr>\n",
       "      <th>2</th>\n",
       "      <td>405</td>\n",
       "      <td>60</td>\n",
       "      <td>62</td>\n",
       "      <td>63</td>\n",
       "      <td>80</td>\n",
       "      <td>80</td>\n",
       "      <td>60</td>\n",
       "      <td>0</td>\n",
       "      <td>1</td>\n",
       "      <td>0</td>\n",
       "      <td>...</td>\n",
       "      <td>0</td>\n",
       "      <td>0</td>\n",
       "      <td>0</td>\n",
       "      <td>0</td>\n",
       "      <td>0</td>\n",
       "      <td>1</td>\n",
       "      <td>0</td>\n",
       "      <td>0</td>\n",
       "      <td>0</td>\n",
       "      <td>0</td>\n",
       "    </tr>\n",
       "    <tr>\n",
       "      <th>3</th>\n",
       "      <td>525</td>\n",
       "      <td>80</td>\n",
       "      <td>82</td>\n",
       "      <td>83</td>\n",
       "      <td>100</td>\n",
       "      <td>100</td>\n",
       "      <td>80</td>\n",
       "      <td>0</td>\n",
       "      <td>1</td>\n",
       "      <td>0</td>\n",
       "      <td>...</td>\n",
       "      <td>0</td>\n",
       "      <td>0</td>\n",
       "      <td>0</td>\n",
       "      <td>0</td>\n",
       "      <td>0</td>\n",
       "      <td>1</td>\n",
       "      <td>0</td>\n",
       "      <td>0</td>\n",
       "      <td>0</td>\n",
       "      <td>0</td>\n",
       "    </tr>\n",
       "    <tr>\n",
       "      <th>3</th>\n",
       "      <td>625</td>\n",
       "      <td>80</td>\n",
       "      <td>100</td>\n",
       "      <td>123</td>\n",
       "      <td>122</td>\n",
       "      <td>120</td>\n",
       "      <td>80</td>\n",
       "      <td>0</td>\n",
       "      <td>1</td>\n",
       "      <td>0</td>\n",
       "      <td>...</td>\n",
       "      <td>0</td>\n",
       "      <td>0</td>\n",
       "      <td>0</td>\n",
       "      <td>0</td>\n",
       "      <td>0</td>\n",
       "      <td>1</td>\n",
       "      <td>0</td>\n",
       "      <td>0</td>\n",
       "      <td>0</td>\n",
       "      <td>0</td>\n",
       "    </tr>\n",
       "    <tr>\n",
       "      <th>4</th>\n",
       "      <td>309</td>\n",
       "      <td>39</td>\n",
       "      <td>52</td>\n",
       "      <td>43</td>\n",
       "      <td>60</td>\n",
       "      <td>50</td>\n",
       "      <td>65</td>\n",
       "      <td>0</td>\n",
       "      <td>1</td>\n",
       "      <td>0</td>\n",
       "      <td>...</td>\n",
       "      <td>0</td>\n",
       "      <td>0</td>\n",
       "      <td>0</td>\n",
       "      <td>0</td>\n",
       "      <td>0</td>\n",
       "      <td>0</td>\n",
       "      <td>0</td>\n",
       "      <td>0</td>\n",
       "      <td>0</td>\n",
       "      <td>0</td>\n",
       "    </tr>\n",
       "  </tbody>\n",
       "</table>\n",
       "<p>5 rows × 32 columns</p>\n",
       "</div>"
      ],
      "text/plain": [
       "   Total  HP  Attack  Defense  Sp. Atk  Sp. Def  Speed  Legendary  \\\n",
       "#                                                                   \n",
       "1    318  45      49       49       65       65     45          0   \n",
       "2    405  60      62       63       80       80     60          0   \n",
       "3    525  80      82       83      100      100     80          0   \n",
       "3    625  80     100      123      122      120     80          0   \n",
       "4    309  39      52       43       60       50     65          0   \n",
       "\n",
       "   Generation_1  Generation_2      ...       Type_2_Ghost  Type_2_Grass  \\\n",
       "#                                  ...                                    \n",
       "1             1             0      ...                  0             0   \n",
       "2             1             0      ...                  0             0   \n",
       "3             1             0      ...                  0             0   \n",
       "3             1             0      ...                  0             0   \n",
       "4             1             0      ...                  0             0   \n",
       "\n",
       "   Type_2_Ground  Type_2_Ice  Type_2_Normal  Type_2_Poison  Type_2_Psychic  \\\n",
       "#                                                                            \n",
       "1              0           0              0              1               0   \n",
       "2              0           0              0              1               0   \n",
       "3              0           0              0              1               0   \n",
       "3              0           0              0              1               0   \n",
       "4              0           0              0              0               0   \n",
       "\n",
       "   Type_2_Rock  Type_2_Steel  Type_2_Water  \n",
       "#                                           \n",
       "1            0             0             0  \n",
       "2            0             0             0  \n",
       "3            0             0             0  \n",
       "3            0             0             0  \n",
       "4            0             0             0  \n",
       "\n",
       "[5 rows x 32 columns]"
      ]
     },
     "execution_count": 15,
     "metadata": {},
     "output_type": "execute_result"
    }
   ],
   "source": [
    "final_step.head()"
   ]
  },
  {
   "cell_type": "code",
   "execution_count": 16,
   "metadata": {},
   "outputs": [
    {
     "data": {
      "text/plain": [
       "Index(['Total', 'HP', 'Attack', 'Defense', 'Sp. Atk', 'Sp. Def', 'Speed',\n",
       "       'Legendary', 'Generation_1', 'Generation_2', 'Generation_3',\n",
       "       'Generation_4', 'Generation_5', 'Generation_6', 'Type_2_Bug',\n",
       "       'Type_2_Dark', 'Type_2_Dragon', 'Type_2_Electric', 'Type_2_Fairy',\n",
       "       'Type_2_Fighting', 'Type_2_Fire', 'Type_2_Flying', 'Type_2_Ghost',\n",
       "       'Type_2_Grass', 'Type_2_Ground', 'Type_2_Ice', 'Type_2_Normal',\n",
       "       'Type_2_Poison', 'Type_2_Psychic', 'Type_2_Rock', 'Type_2_Steel',\n",
       "       'Type_2_Water'],\n",
       "      dtype='object')"
      ]
     },
     "execution_count": 16,
     "metadata": {},
     "output_type": "execute_result"
    }
   ],
   "source": [
    "final_step.columns"
   ]
  },
  {
   "cell_type": "code",
   "execution_count": 17,
   "metadata": {
    "collapsed": true
   },
   "outputs": [],
   "source": [
    "X_train, X_test, y_train, y_test = train_test_split( final_step, Y, test_size = 0.3, random_state = 100)"
   ]
  },
  {
   "cell_type": "code",
   "execution_count": 18,
   "metadata": {},
   "outputs": [
    {
     "data": {
      "text/plain": [
       "DecisionTreeClassifier(class_weight=None, criterion='gini', max_depth=3,\n",
       "            max_features=None, max_leaf_nodes=None,\n",
       "            min_impurity_split=1e-07, min_samples_leaf=5,\n",
       "            min_samples_split=2, min_weight_fraction_leaf=0.0,\n",
       "            presort=False, random_state=100, splitter='best')"
      ]
     },
     "execution_count": 18,
     "metadata": {},
     "output_type": "execute_result"
    }
   ],
   "source": [
    "clf_gini = DecisionTreeClassifier(criterion = \"gini\", random_state = 100,\n",
    "                               max_depth=3, min_samples_leaf=5)\n",
    "clf_gini.fit(X_train, y_train['Type_1_Bug'])"
   ]
  },
  {
   "cell_type": "code",
   "execution_count": 19,
   "metadata": {
    "collapsed": true
   },
   "outputs": [],
   "source": [
    "pred = clf_gini.predict(X_test)"
   ]
  },
  {
   "cell_type": "code",
   "execution_count": 20,
   "metadata": {},
   "outputs": [
    {
     "data": {
      "text/plain": [
       "array([[217,   9],\n",
       "       [ 12,   2]])"
      ]
     },
     "execution_count": 20,
     "metadata": {},
     "output_type": "execute_result"
    }
   ],
   "source": [
    "confusion_matrix(y_test['Type_1_Bug'],pred)"
   ]
  },
  {
   "cell_type": "code",
   "execution_count": 21,
   "metadata": {},
   "outputs": [
    {
     "data": {
      "text/plain": [
       "0.91249999999999998"
      ]
     },
     "execution_count": 21,
     "metadata": {},
     "output_type": "execute_result"
    }
   ],
   "source": [
    "accuracy_score(y_test['Type_1_Bug'],pred)"
   ]
  },
  {
   "cell_type": "code",
   "execution_count": 22,
   "metadata": {
    "collapsed": true
   },
   "outputs": [],
   "source": [
    "accuracy_clf_gini = []\n",
    "confusion_matrices = []\n",
    "for y_type in y_train:\n",
    "    clf_gini.fit(X_train, (y_train[y_type]))\n",
    "    pred = clf_gini.predict(X_test)\n",
    "    confusion_matrices.append(confusion_matrix(y_test[y_type],pred))\n",
    "    accuracy_clf_gini.append(accuracy_score(y_test[y_type],pred))"
   ]
  },
  {
   "cell_type": "code",
   "execution_count": 23,
   "metadata": {},
   "outputs": [
    {
     "data": {
      "text/plain": [
       "[0.91249999999999998,\n",
       " 0.94999999999999996,\n",
       " 0.93333333333333335,\n",
       " 0.9291666666666667,\n",
       " 0.96666666666666667,\n",
       " 0.95416666666666672,\n",
       " 0.9375,\n",
       " 0.9916666666666667,\n",
       " 0.98333333333333328,\n",
       " 0.9375,\n",
       " 0.95416666666666672,\n",
       " 0.95416666666666672,\n",
       " 0.85833333333333328,\n",
       " 0.96666666666666667,\n",
       " 0.9291666666666667,\n",
       " 0.9291666666666667,\n",
       " 0.95416666666666672,\n",
       " 0.82499999999999996]"
      ]
     },
     "execution_count": 23,
     "metadata": {},
     "output_type": "execute_result"
    }
   ],
   "source": [
    "accuracy_clf_gini"
   ]
  },
  {
   "cell_type": "code",
   "execution_count": 24,
   "metadata": {
    "collapsed": true
   },
   "outputs": [],
   "source": [
    "#Gradient Boosting Classifier\n",
    "GradBoost = GradientBoostingClassifier(n_estimators=350, learning_rate=0.1,\n",
    "                                 max_depth=1, random_state=0)"
   ]
  },
  {
   "cell_type": "code",
   "execution_count": 25,
   "metadata": {
    "collapsed": true
   },
   "outputs": [],
   "source": [
    "accuracy_gradboost = []\n",
    "for y_type in y_train:\n",
    "    GradBoost.fit(X_train, y_train[y_type])\n",
    "    pred = GradBoost.predict(X_test)\n",
    "    accuracy_gradboost.append(accuracy_score(y_test[y_type],pred))"
   ]
  },
  {
   "cell_type": "code",
   "execution_count": 26,
   "metadata": {},
   "outputs": [
    {
     "data": {
      "text/plain": [
       "[0.94999999999999996,\n",
       " 0.94999999999999996,\n",
       " 0.94166666666666665,\n",
       " 0.93333333333333335,\n",
       " 0.95833333333333337,\n",
       " 0.95833333333333337,\n",
       " 0.9458333333333333,\n",
       " 0.98750000000000004,\n",
       " 0.97499999999999998,\n",
       " 0.93333333333333335,\n",
       " 0.95416666666666672,\n",
       " 0.95416666666666672,\n",
       " 0.85416666666666663,\n",
       " 0.96666666666666667,\n",
       " 0.9375,\n",
       " 0.9291666666666667,\n",
       " 0.95833333333333337,\n",
       " 0.8666666666666667]"
      ]
     },
     "execution_count": 26,
     "metadata": {},
     "output_type": "execute_result"
    }
   ],
   "source": [
    "accuracy_gradboost"
   ]
  },
  {
   "cell_type": "code",
   "execution_count": 27,
   "metadata": {
    "collapsed": true
   },
   "outputs": [],
   "source": [
    "#Extremely Random Forest\n",
    "Extratree = ExtraTreesClassifier(max_depth=None,min_samples_split=2)"
   ]
  },
  {
   "cell_type": "code",
   "execution_count": 28,
   "metadata": {
    "collapsed": true
   },
   "outputs": [],
   "source": [
    "accuracy_extratree= []\n",
    "for y_type in y_train:\n",
    "    Extratree.fit(X_train, y_train[y_type])\n",
    "    pred = Extratree.predict(X_test)\n",
    "    accuracy_extratree.append(accuracy_score(y_test[y_type],pred))"
   ]
  },
  {
   "cell_type": "code",
   "execution_count": 29,
   "metadata": {},
   "outputs": [
    {
     "data": {
      "text/plain": [
       "[0.92083333333333328,\n",
       " 0.95416666666666672,\n",
       " 0.95416666666666672,\n",
       " 0.92500000000000004,\n",
       " 0.96250000000000002,\n",
       " 0.96666666666666667,\n",
       " 0.9291666666666667,\n",
       " 0.99583333333333335,\n",
       " 0.98333333333333328,\n",
       " 0.91666666666666663,\n",
       " 0.95416666666666672,\n",
       " 0.9458333333333333,\n",
       " 0.86250000000000004,\n",
       " 0.95833333333333337,\n",
       " 0.9375,\n",
       " 0.9291666666666667,\n",
       " 0.96666666666666667,\n",
       " 0.85833333333333328]"
      ]
     },
     "execution_count": 29,
     "metadata": {},
     "output_type": "execute_result"
    }
   ],
   "source": [
    "accuracy_extratree"
   ]
  },
  {
   "cell_type": "code",
   "execution_count": 30,
   "metadata": {
    "collapsed": true
   },
   "outputs": [],
   "source": [
    "#Adaptive Boosting\n",
    "regr = AdaBoostClassifier(learning_rate = 1, n_estimators = 350)"
   ]
  },
  {
   "cell_type": "code",
   "execution_count": 31,
   "metadata": {
    "collapsed": true
   },
   "outputs": [],
   "source": [
    "accuracy_regr= []\n",
    "for y_type in y_train:\n",
    "    regr.fit(X_train, y_train[y_type])\n",
    "    pred = regr.predict(X_test)\n",
    "    accuracy_regr.append(accuracy_score(y_test[y_type],pred))"
   ]
  },
  {
   "cell_type": "code",
   "execution_count": 32,
   "metadata": {},
   "outputs": [
    {
     "data": {
      "text/plain": [
       "[0.91666666666666663,\n",
       " 0.93333333333333335,\n",
       " 0.9375,\n",
       " 0.92083333333333328,\n",
       " 0.95833333333333337,\n",
       " 0.9291666666666667,\n",
       " 0.91249999999999998,\n",
       " 0.98750000000000004,\n",
       " 0.97499999999999998,\n",
       " 0.89583333333333337,\n",
       " 0.9291666666666667,\n",
       " 0.94999999999999996,\n",
       " 0.86250000000000004,\n",
       " 0.9458333333333333,\n",
       " 0.90416666666666667,\n",
       " 0.89583333333333337,\n",
       " 0.96250000000000002,\n",
       " 0.79166666666666663]"
      ]
     },
     "execution_count": 32,
     "metadata": {},
     "output_type": "execute_result"
    }
   ],
   "source": [
    "accuracy_regr"
   ]
  },
  {
   "cell_type": "code",
   "execution_count": 33,
   "metadata": {
    "collapsed": true
   },
   "outputs": [],
   "source": [
    "finalensem = VotingClassifier(estimators=[('AdaBoost', regr), ('ExtraTrees', Extratree), ('GradientBoost', GradBoost)], voting='soft')"
   ]
  },
  {
   "cell_type": "code",
   "execution_count": 34,
   "metadata": {
    "collapsed": true
   },
   "outputs": [],
   "source": [
    "accuracy_finalensem = []\n",
    "for y_type in y_train:\n",
    "    finalensem.fit(X_train, y_train[y_type])\n",
    "    pred = finalensem.predict(X_test)\n",
    "    accuracy_finalensem.append(accuracy_score(y_test[y_type],pred))"
   ]
  },
  {
   "cell_type": "code",
   "execution_count": 35,
   "metadata": {
    "scrolled": true
   },
   "outputs": [
    {
     "data": {
      "text/plain": [
       "[0.9291666666666667,\n",
       " 0.94999999999999996,\n",
       " 0.9458333333333333,\n",
       " 0.9375,\n",
       " 0.96250000000000002,\n",
       " 0.97499999999999998,\n",
       " 0.9375,\n",
       " 0.98750000000000004,\n",
       " 0.98333333333333328,\n",
       " 0.9375,\n",
       " 0.95416666666666672,\n",
       " 0.95416666666666672,\n",
       " 0.8666666666666667,\n",
       " 0.96666666666666667,\n",
       " 0.93333333333333335,\n",
       " 0.92500000000000004,\n",
       " 0.96250000000000002,\n",
       " 0.87083333333333335]"
      ]
     },
     "execution_count": 35,
     "metadata": {},
     "output_type": "execute_result"
    }
   ],
   "source": [
    "accuracy_finalensem"
   ]
  },
  {
   "cell_type": "code",
   "execution_count": 36,
   "metadata": {
    "collapsed": true
   },
   "outputs": [],
   "source": [
    "models = ['clf_gini', 'gradBoost', 'extraTree', 'adaBoost', 'finalEnsem']"
   ]
  },
  {
   "cell_type": "code",
   "execution_count": 42,
   "metadata": {
    "collapsed": true
   },
   "outputs": [],
   "source": [
    "accuracy_scores = [accuracy_clf_gini, accuracy_gradboost, accuracy_extratree, accuracy_regr, accuracy_finalensem]"
   ]
  },
  {
   "cell_type": "code",
   "execution_count": 55,
   "metadata": {},
   "outputs": [
    {
     "data": {
      "text/plain": [
       "Index(['Type_1_Bug', 'Type_1_Dark', 'Type_1_Dragon', 'Type_1_Electric',\n",
       "       'Type_1_Fairy', 'Type_1_Fighting', 'Type_1_Fire', 'Type_1_Flying',\n",
       "       'Type_1_Ghost', 'Type_1_Grass', 'Type_1_Ground', 'Type_1_Ice',\n",
       "       'Type_1_Normal', 'Type_1_Poison', 'Type_1_Psychic', 'Type_1_Rock',\n",
       "       'Type_1_Steel', 'Type_1_Water'],\n",
       "      dtype='object')"
      ]
     },
     "execution_count": 55,
     "metadata": {},
     "output_type": "execute_result"
    }
   ],
   "source": [
    "Y.columns"
   ]
  },
  {
   "cell_type": "code",
   "execution_count": 57,
   "metadata": {},
   "outputs": [
    {
     "data": {
      "text/html": [
       "<div>\n",
       "<table border=\"1\" class=\"dataframe\">\n",
       "  <thead>\n",
       "    <tr style=\"text-align: right;\">\n",
       "      <th></th>\n",
       "      <th>clf_gini</th>\n",
       "      <th>gradBoost</th>\n",
       "      <th>extraTree</th>\n",
       "      <th>adaBoost</th>\n",
       "      <th>finalEnsem</th>\n",
       "    </tr>\n",
       "  </thead>\n",
       "  <tbody>\n",
       "    <tr>\n",
       "      <th>Type_1_Bug</th>\n",
       "      <td>0.912500</td>\n",
       "      <td>0.950000</td>\n",
       "      <td>0.920833</td>\n",
       "      <td>0.916667</td>\n",
       "      <td>0.929167</td>\n",
       "    </tr>\n",
       "    <tr>\n",
       "      <th>Type_1_Dark</th>\n",
       "      <td>0.950000</td>\n",
       "      <td>0.950000</td>\n",
       "      <td>0.954167</td>\n",
       "      <td>0.933333</td>\n",
       "      <td>0.950000</td>\n",
       "    </tr>\n",
       "    <tr>\n",
       "      <th>Type_1_Dragon</th>\n",
       "      <td>0.933333</td>\n",
       "      <td>0.941667</td>\n",
       "      <td>0.954167</td>\n",
       "      <td>0.937500</td>\n",
       "      <td>0.945833</td>\n",
       "    </tr>\n",
       "    <tr>\n",
       "      <th>Type_1_Electric</th>\n",
       "      <td>0.929167</td>\n",
       "      <td>0.933333</td>\n",
       "      <td>0.925000</td>\n",
       "      <td>0.920833</td>\n",
       "      <td>0.937500</td>\n",
       "    </tr>\n",
       "    <tr>\n",
       "      <th>Type_1_Fairy</th>\n",
       "      <td>0.966667</td>\n",
       "      <td>0.958333</td>\n",
       "      <td>0.962500</td>\n",
       "      <td>0.958333</td>\n",
       "      <td>0.962500</td>\n",
       "    </tr>\n",
       "    <tr>\n",
       "      <th>Type_1_Fighting</th>\n",
       "      <td>0.954167</td>\n",
       "      <td>0.958333</td>\n",
       "      <td>0.966667</td>\n",
       "      <td>0.929167</td>\n",
       "      <td>0.975000</td>\n",
       "    </tr>\n",
       "    <tr>\n",
       "      <th>Type_1_Fire</th>\n",
       "      <td>0.937500</td>\n",
       "      <td>0.945833</td>\n",
       "      <td>0.929167</td>\n",
       "      <td>0.912500</td>\n",
       "      <td>0.937500</td>\n",
       "    </tr>\n",
       "    <tr>\n",
       "      <th>Type_1_Flying</th>\n",
       "      <td>0.991667</td>\n",
       "      <td>0.987500</td>\n",
       "      <td>0.995833</td>\n",
       "      <td>0.987500</td>\n",
       "      <td>0.987500</td>\n",
       "    </tr>\n",
       "    <tr>\n",
       "      <th>Type_1_Ghost</th>\n",
       "      <td>0.983333</td>\n",
       "      <td>0.975000</td>\n",
       "      <td>0.983333</td>\n",
       "      <td>0.975000</td>\n",
       "      <td>0.983333</td>\n",
       "    </tr>\n",
       "    <tr>\n",
       "      <th>Type_1_Grass</th>\n",
       "      <td>0.937500</td>\n",
       "      <td>0.933333</td>\n",
       "      <td>0.916667</td>\n",
       "      <td>0.895833</td>\n",
       "      <td>0.937500</td>\n",
       "    </tr>\n",
       "    <tr>\n",
       "      <th>Type_1_Ground</th>\n",
       "      <td>0.954167</td>\n",
       "      <td>0.954167</td>\n",
       "      <td>0.954167</td>\n",
       "      <td>0.929167</td>\n",
       "      <td>0.954167</td>\n",
       "    </tr>\n",
       "    <tr>\n",
       "      <th>Type_1_Ice</th>\n",
       "      <td>0.954167</td>\n",
       "      <td>0.954167</td>\n",
       "      <td>0.945833</td>\n",
       "      <td>0.950000</td>\n",
       "      <td>0.954167</td>\n",
       "    </tr>\n",
       "    <tr>\n",
       "      <th>Type_1_Normal</th>\n",
       "      <td>0.858333</td>\n",
       "      <td>0.854167</td>\n",
       "      <td>0.862500</td>\n",
       "      <td>0.862500</td>\n",
       "      <td>0.866667</td>\n",
       "    </tr>\n",
       "    <tr>\n",
       "      <th>Type_1_Poison</th>\n",
       "      <td>0.966667</td>\n",
       "      <td>0.966667</td>\n",
       "      <td>0.958333</td>\n",
       "      <td>0.945833</td>\n",
       "      <td>0.966667</td>\n",
       "    </tr>\n",
       "    <tr>\n",
       "      <th>Type_1_Psychic</th>\n",
       "      <td>0.929167</td>\n",
       "      <td>0.937500</td>\n",
       "      <td>0.937500</td>\n",
       "      <td>0.904167</td>\n",
       "      <td>0.933333</td>\n",
       "    </tr>\n",
       "    <tr>\n",
       "      <th>Type_1_Rock</th>\n",
       "      <td>0.929167</td>\n",
       "      <td>0.929167</td>\n",
       "      <td>0.929167</td>\n",
       "      <td>0.895833</td>\n",
       "      <td>0.925000</td>\n",
       "    </tr>\n",
       "    <tr>\n",
       "      <th>Type_1_Steel</th>\n",
       "      <td>0.954167</td>\n",
       "      <td>0.958333</td>\n",
       "      <td>0.966667</td>\n",
       "      <td>0.962500</td>\n",
       "      <td>0.962500</td>\n",
       "    </tr>\n",
       "    <tr>\n",
       "      <th>Type_1_Water</th>\n",
       "      <td>0.825000</td>\n",
       "      <td>0.866667</td>\n",
       "      <td>0.858333</td>\n",
       "      <td>0.791667</td>\n",
       "      <td>0.870833</td>\n",
       "    </tr>\n",
       "  </tbody>\n",
       "</table>\n",
       "</div>"
      ],
      "text/plain": [
       "                 clf_gini  gradBoost  extraTree  adaBoost  finalEnsem\n",
       "Type_1_Bug       0.912500   0.950000   0.920833  0.916667    0.929167\n",
       "Type_1_Dark      0.950000   0.950000   0.954167  0.933333    0.950000\n",
       "Type_1_Dragon    0.933333   0.941667   0.954167  0.937500    0.945833\n",
       "Type_1_Electric  0.929167   0.933333   0.925000  0.920833    0.937500\n",
       "Type_1_Fairy     0.966667   0.958333   0.962500  0.958333    0.962500\n",
       "Type_1_Fighting  0.954167   0.958333   0.966667  0.929167    0.975000\n",
       "Type_1_Fire      0.937500   0.945833   0.929167  0.912500    0.937500\n",
       "Type_1_Flying    0.991667   0.987500   0.995833  0.987500    0.987500\n",
       "Type_1_Ghost     0.983333   0.975000   0.983333  0.975000    0.983333\n",
       "Type_1_Grass     0.937500   0.933333   0.916667  0.895833    0.937500\n",
       "Type_1_Ground    0.954167   0.954167   0.954167  0.929167    0.954167\n",
       "Type_1_Ice       0.954167   0.954167   0.945833  0.950000    0.954167\n",
       "Type_1_Normal    0.858333   0.854167   0.862500  0.862500    0.866667\n",
       "Type_1_Poison    0.966667   0.966667   0.958333  0.945833    0.966667\n",
       "Type_1_Psychic   0.929167   0.937500   0.937500  0.904167    0.933333\n",
       "Type_1_Rock      0.929167   0.929167   0.929167  0.895833    0.925000\n",
       "Type_1_Steel     0.954167   0.958333   0.966667  0.962500    0.962500\n",
       "Type_1_Water     0.825000   0.866667   0.858333  0.791667    0.870833"
      ]
     },
     "execution_count": 57,
     "metadata": {},
     "output_type": "execute_result"
    }
   ],
   "source": [
    "accuracy = pd.DataFrame(data = accuracy_scores).transpose()\n",
    "accuracy.columns = models\n",
    "accuracy.set_index(Y.columns)"
   ]
  },
  {
   "cell_type": "code",
   "execution_count": 58,
   "metadata": {},
   "outputs": [
    {
     "data": {
      "text/html": [
       "<div>\n",
       "<table border=\"1\" class=\"dataframe\">\n",
       "  <thead>\n",
       "    <tr style=\"text-align: right;\">\n",
       "      <th></th>\n",
       "      <th>clf_gini</th>\n",
       "      <th>gradBoost</th>\n",
       "      <th>extraTree</th>\n",
       "      <th>adaBoost</th>\n",
       "      <th>finalEnsem</th>\n",
       "    </tr>\n",
       "  </thead>\n",
       "  <tbody>\n",
       "    <tr>\n",
       "      <th>count</th>\n",
       "      <td>18.000000</td>\n",
       "      <td>18.000000</td>\n",
       "      <td>18.000000</td>\n",
       "      <td>18.000000</td>\n",
       "      <td>18.000000</td>\n",
       "    </tr>\n",
       "    <tr>\n",
       "      <th>mean</th>\n",
       "      <td>0.937037</td>\n",
       "      <td>0.941898</td>\n",
       "      <td>0.940046</td>\n",
       "      <td>0.922685</td>\n",
       "      <td>0.943287</td>\n",
       "    </tr>\n",
       "    <tr>\n",
       "      <th>std</th>\n",
       "      <td>0.040420</td>\n",
       "      <td>0.033194</td>\n",
       "      <td>0.035932</td>\n",
       "      <td>0.044859</td>\n",
       "      <td>0.032531</td>\n",
       "    </tr>\n",
       "    <tr>\n",
       "      <th>min</th>\n",
       "      <td>0.825000</td>\n",
       "      <td>0.854167</td>\n",
       "      <td>0.858333</td>\n",
       "      <td>0.791667</td>\n",
       "      <td>0.866667</td>\n",
       "    </tr>\n",
       "    <tr>\n",
       "      <th>25%</th>\n",
       "      <td>0.929167</td>\n",
       "      <td>0.934375</td>\n",
       "      <td>0.926042</td>\n",
       "      <td>0.906250</td>\n",
       "      <td>0.934375</td>\n",
       "    </tr>\n",
       "    <tr>\n",
       "      <th>50%</th>\n",
       "      <td>0.943750</td>\n",
       "      <td>0.950000</td>\n",
       "      <td>0.950000</td>\n",
       "      <td>0.929167</td>\n",
       "      <td>0.947917</td>\n",
       "    </tr>\n",
       "    <tr>\n",
       "      <th>75%</th>\n",
       "      <td>0.954167</td>\n",
       "      <td>0.958333</td>\n",
       "      <td>0.961458</td>\n",
       "      <td>0.948958</td>\n",
       "      <td>0.962500</td>\n",
       "    </tr>\n",
       "    <tr>\n",
       "      <th>max</th>\n",
       "      <td>0.991667</td>\n",
       "      <td>0.987500</td>\n",
       "      <td>0.995833</td>\n",
       "      <td>0.987500</td>\n",
       "      <td>0.987500</td>\n",
       "    </tr>\n",
       "  </tbody>\n",
       "</table>\n",
       "</div>"
      ],
      "text/plain": [
       "        clf_gini  gradBoost  extraTree   adaBoost  finalEnsem\n",
       "count  18.000000  18.000000  18.000000  18.000000   18.000000\n",
       "mean    0.937037   0.941898   0.940046   0.922685    0.943287\n",
       "std     0.040420   0.033194   0.035932   0.044859    0.032531\n",
       "min     0.825000   0.854167   0.858333   0.791667    0.866667\n",
       "25%     0.929167   0.934375   0.926042   0.906250    0.934375\n",
       "50%     0.943750   0.950000   0.950000   0.929167    0.947917\n",
       "75%     0.954167   0.958333   0.961458   0.948958    0.962500\n",
       "max     0.991667   0.987500   0.995833   0.987500    0.987500"
      ]
     },
     "execution_count": 58,
     "metadata": {},
     "output_type": "execute_result"
    }
   ],
   "source": [
    "accuracy.describe()"
   ]
  },
  {
   "cell_type": "code",
   "execution_count": null,
   "metadata": {
    "collapsed": true
   },
   "outputs": [],
   "source": []
  }
 ],
 "metadata": {
  "kernelspec": {
   "display_name": "Python 3",
   "language": "python",
   "name": "python3"
  },
  "language_info": {
   "codemirror_mode": {
    "name": "ipython",
    "version": 3
   },
   "file_extension": ".py",
   "mimetype": "text/x-python",
   "name": "python",
   "nbconvert_exporter": "python",
   "pygments_lexer": "ipython3",
   "version": "3.6.2"
  }
 },
 "nbformat": 4,
 "nbformat_minor": 2
}
